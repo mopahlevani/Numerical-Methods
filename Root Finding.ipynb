{
  "cells": [
    {
      "cell_type": "markdown",
      "metadata": {
        "id": "view-in-github",
        "colab_type": "text"
      },
      "source": [
        "<a href=\"https://colab.research.google.com/github/mopahlevani/Numerical-Simulation/blob/main/Root%20Finding.ipynb\" target=\"_parent\"><img src=\"https://colab.research.google.com/assets/colab-badge.svg\" alt=\"Open In Colab\"/></a>"
      ]
    },
    {
      "cell_type": "markdown",
      "metadata": {
        "id": "KvMV0WCzdQ99"
      },
      "source": [
        "- Student 1 Name: Mohammad Hadi Pahlevani\n",
        "- Student 2 Name: Spandan Bhattacharya\n",
        "\n",
        "change the name of this notebook to  `name_1_name_2_notebook_??.ipynb` with *no spaces, no accents and no strange characters!* and where `??` stands for the number of the notebook you are working on."
      ]
    },
    {
      "cell_type": "markdown",
      "metadata": {
        "id": "jhRerghJdQ-B"
      },
      "source": [
        "# PPM Numerical Methods -- Numerical Methods for Physics"
      ]
    },
    {
      "cell_type": "markdown",
      "metadata": {
        "id": "L0LhMh4HdQ-C"
      },
      "source": [
        "# Numerical methods: Root finding"
      ]
    },
    {
      "cell_type": "markdown",
      "metadata": {
        "id": "QCeAYAvedQ-D"
      },
      "source": [
        "# Root finding"
      ]
    },
    {
      "cell_type": "markdown",
      "metadata": {
        "id": "792mgpAydQ-D"
      },
      "source": [
        "## Bisection method"
      ]
    },
    {
      "cell_type": "markdown",
      "metadata": {
        "id": "XVlvqofXdQ-D"
      },
      "source": [
        "Use the bisection method to find the root of the function\n",
        "    $$ f(x) = \\frac{1}{2} - e^{-x}$$\n",
        "think carefully how to estimate the error to end the calculation."
      ]
    },
    {
      "cell_type": "code",
      "execution_count": 67,
      "metadata": {
        "id": "f4CzlwRjdQ-E"
      },
      "outputs": [],
      "source": [
        "import numpy as np\n",
        "import matplotlib.pyplot as plt\n",
        "import timeit"
      ]
    },
    {
      "cell_type": "code",
      "source": [
        "def f(x):\n",
        "  return (1/2) - np.exp(-x)\n",
        "\n",
        "tol = np.exp(-8)\n",
        "max_steps = 100"
      ],
      "metadata": {
        "id": "xlX5lg8MmxcI"
      },
      "execution_count": 68,
      "outputs": []
    },
    {
      "cell_type": "code",
      "execution_count": 69,
      "metadata": {
        "colab": {
          "base_uri": "https://localhost:8080/"
        },
        "id": "sbhPLTw1dQ-G",
        "outputId": "c181039c-73bf-48aa-bb15-6a442d1a321d"
      },
      "outputs": [
        {
          "output_type": "stream",
          "name": "stdout",
          "text": [
            "The Root is 0.693359375\n",
            "Time:  0.0011600939997151727 s, Step: 10\n"
          ]
        }
      ],
      "source": [
        "start = timeit.default_timer()\n",
        "\n",
        "step = 0\n",
        "a = -1\n",
        "b = 1\n",
        "\n",
        "while (np.abs(f(a))>tol and (np.abs(f(b))>tol)):\n",
        "  c = (a+b)/2\n",
        "  step = step + 1\n",
        "  if np.abs(f(c)) < tol :\n",
        "    print(\"The Root is\", c)\n",
        "    break\n",
        "  elif f(c)*f(a) < 0:\n",
        "    b = c\n",
        "  else:\n",
        "    a = c\n",
        "  if step >= max_steps:\n",
        "        print(\"Step limit reached. Stopping without finding a precise root.\")\n",
        "        break\n",
        "\n",
        "stop = timeit.default_timer()\n",
        "print('Time: ', stop - start, 's,', 'Step:', step)\n",
        "comparison_list = []\n",
        "comparison_list.append([\"Bisection\", stop - start, step ])"
      ]
    },
    {
      "cell_type": "markdown",
      "metadata": {
        "id": "CYNU1fz-dQ-G"
      },
      "source": [
        "## False-position method"
      ]
    },
    {
      "cell_type": "markdown",
      "metadata": {
        "id": "3ERNGwHqdQ-H"
      },
      "source": [
        "Use the false position method to find the root of the function\n",
        "    $$ f(x) = \\frac{1}{2} - e^{-x}$$\n",
        "and compare to the bisection method"
      ]
    },
    {
      "cell_type": "code",
      "execution_count": 70,
      "metadata": {
        "colab": {
          "base_uri": "https://localhost:8080/"
        },
        "id": "bhtDIccydQ-H",
        "outputId": "01b44858-e66d-463e-ed96-5e15af7e5f02"
      },
      "outputs": [
        {
          "output_type": "stream",
          "name": "stdout",
          "text": [
            "The Root is 0.6937810679861931\n",
            "Time:  0.0007801430001563858 s, Step: 13\n"
          ]
        }
      ],
      "source": [
        "start = timeit.default_timer()\n",
        "\n",
        "step = 0\n",
        "max_steps = 100\n",
        "l = -1\n",
        "u = 1\n",
        "r = 0\n",
        "\n",
        "def f(x):\n",
        "  return (1/2) - np.exp(-x)\n",
        "\n",
        "while (np.abs(f(l))>tol and (np.abs(f(u))>tol)):\n",
        "  r = u - (f(u) * (l-u))/(f(l)-f(u))\n",
        "  step = step + 1\n",
        "  if np.abs(f(r)) < tol :\n",
        "    print(\"The Root is\", r)\n",
        "    break\n",
        "  elif f(r)*f(l) < 0:\n",
        "    u = r\n",
        "  else:\n",
        "    l = r\n",
        "  if step >= max_steps:\n",
        "        print(\"Step limit reached. Stopping without finding a precise root.\")\n",
        "        break\n",
        "\n",
        "stop = timeit.default_timer()\n",
        "print('Time: ', stop - start, 's,', 'Step:', step)\n",
        "comparison_list.append([\"False-position\", stop - start, step ])"
      ]
    },
    {
      "cell_type": "markdown",
      "metadata": {
        "id": "622Ge0MidQ-H"
      },
      "source": [
        "## The Newton-Raphson Method"
      ]
    },
    {
      "cell_type": "markdown",
      "metadata": {
        "id": "y8oKIYS2dQ-I"
      },
      "source": [
        "Implement the Newton-Rapshon method to solve\n",
        "$$ f(x) = \\frac{1}{2} - e^{-x}$$\n",
        "and compare to the bisection and false position methods\n",
        "\n",
        "- Try different starting guess values, e.g. -1, 1, 5 and 30\n",
        "- Comment"
      ]
    },
    {
      "cell_type": "code",
      "execution_count": 71,
      "metadata": {
        "colab": {
          "base_uri": "https://localhost:8080/"
        },
        "id": "IIcizZwfdQ-I",
        "outputId": "5619f35d-c06b-4db9-e010-64135e2c99ea"
      },
      "outputs": [
        {
          "output_type": "stream",
          "name": "stdout",
          "text": [
            "The Root is 0.6931462784360416\n",
            "Time:  0.0013765210005658446 Step 3\n"
          ]
        }
      ],
      "source": [
        "#The Newton-Raphson Method without Backtracking\n",
        "start = timeit.default_timer()\n",
        "\n",
        "step = 0\n",
        "i = 1\n",
        "\n",
        "def f(x):\n",
        "  return (1/2) - np.exp(-x)\n",
        "\n",
        "def diff(f, x):\n",
        "    return (f(x + tol) - f(x - tol)) / (2 * tol)\n",
        "\n",
        "for step in range(max_steps) :\n",
        "  if f(i)*diff(f,i) > 0:\n",
        "    d = -1 * diff(f,i)\n",
        "  else:\n",
        "    d = diff(f,i)\n",
        "  j = i - ( f(i) / diff(f,i) )\n",
        "  i = j\n",
        "  step = step + 1\n",
        "  if np.abs(f(i)) < tol :\n",
        "    print(\"The Root is\", i)\n",
        "    break\n",
        "  if step >= max_steps:\n",
        "        print(\"Step limit reached. Stopping without finding a precise root.\")\n",
        "        break\n",
        "\n",
        "stop = timeit.default_timer()\n",
        "print('Time: ', stop - start, 'Step', step)\n",
        "comparison_list.append([\"Newton-Raphson\", stop - start, step ])"
      ]
    },
    {
      "cell_type": "code",
      "source": [
        "#The Newton-Raphson Method with Backtracking\n",
        "\n",
        "start = timeit.default_timer()\n",
        "\n",
        "step = 0\n",
        "i = 1\n",
        "alpha = 2\n",
        "delta = 0\n",
        "max_backtrack = 1000\n",
        "max_steps = 1000\n",
        "\n",
        "def f(x):\n",
        "    return 0.5 - np.exp(-x)\n",
        "\n",
        "def diff(f, x):\n",
        "    return np.exp(-x)\n",
        "\n",
        "for step in range(max_steps):\n",
        "    f_i = f(i)\n",
        "    f_prime_i = diff(f, i)\n",
        "\n",
        "    delta = -f_i / f_prime_i\n",
        "    new_guess = i + delta\n",
        "\n",
        "    backtrack_step = 0\n",
        "    while np.abs(f(new_guess)) > np.abs(f_i) and backtrack_step < max_backtrack:\n",
        "        delta = delta / alpha\n",
        "        new_guess = i + delta\n",
        "        backtrack_step += 1\n",
        "\n",
        "    i = new_guess\n",
        "    step += 1\n",
        "\n",
        "    if np.abs(f(i)) < tol:\n",
        "        print(\"The Root is\", i)\n",
        "        break\n",
        "\n",
        "    if step >= max_steps:\n",
        "        print(\"Step limit reached. Stopping without finding a precise root.\")\n",
        "        break\n",
        "\n",
        "stop = timeit.default_timer()\n",
        "print('Time: ', stop - start, 'Step', step)\n",
        "comparison_list.append([\"Newton-Raphson with Backtracking\", stop - start, step ])"
      ],
      "metadata": {
        "colab": {
          "base_uri": "https://localhost:8080/"
        },
        "id": "m5MKIhqi6J5C",
        "outputId": "e100d43a-eb74-4fd3-d739-8c7a34f3a000"
      },
      "execution_count": 72,
      "outputs": [
        {
          "output_type": "stream",
          "name": "stdout",
          "text": [
            "The Root is 0.6931462784620456\n",
            "Time:  0.0006865639998068218 Step 3\n"
          ]
        }
      ]
    },
    {
      "cell_type": "markdown",
      "source": [
        "The Newton-Raphson method is highly sensitive to the initial guess, working well for values like\n",
        "$$i=-1,1,5$$\n",
        "but leading to overflow errors for flawed initial guesses, approximately $$i>7$$ due to the exponential nature of the function and floating-point precision issues. To address this, the Backtracking Technique is implemented, which adjusts the step size when necessary. This approach allows the method to converge even for poor initial guesses like\n",
        "$$i=30$$ by preventing systematic errors, though minor precision warnings may still occur."
      ],
      "metadata": {
        "id": "Llk1Z1yY7Mdu"
      }
    },
    {
      "cell_type": "markdown",
      "metadata": {
        "id": "cKCP1zN0dQ-I"
      },
      "source": [
        "## The Secant Method"
      ]
    },
    {
      "cell_type": "markdown",
      "metadata": {
        "id": "1niSp7jBdQ-I"
      },
      "source": [
        "Implement the Newton-Rapshon method to solve\n",
        "$$ f(x) = \\frac{1}{2} - e^{-x}$$\n",
        "and compare to the bisection and false position methods\n",
        "\n",
        "- Try different starting guess values, e.g. -1, 1, 5 and 30\n",
        "- Comment"
      ]
    },
    {
      "cell_type": "code",
      "execution_count": 73,
      "metadata": {
        "colab": {
          "base_uri": "https://localhost:8080/"
        },
        "id": "uuPFrfMFdQ-J",
        "outputId": "ee4a8208-950c-40a4-c12a-b192d58c1d68"
      },
      "outputs": [
        {
          "output_type": "stream",
          "name": "stdout",
          "text": [
            "The Root is 0.693406296993749\n",
            "Time:  0.0011791480001193122 Step 7\n"
          ]
        }
      ],
      "source": [
        "start = timeit.default_timer()\n",
        "\n",
        "step = 0\n",
        "i = 1 #i-1\n",
        "j = 3 #i\n",
        "# k : i+1\n",
        "\n",
        "def f(x):\n",
        "  return (1/2) - np.exp(-x)\n",
        "\n",
        "for step in range(max_steps) :\n",
        "  df = f(j)-f(i) / (j-i)\n",
        "  k = j - (f(j) * (i-j)) / (f(i)-f(j))\n",
        "  if f(i)*diff(f,i) > 0:\n",
        "    d = -1 * diff(f,i)\n",
        "  else:\n",
        "    d = diff(f,i)\n",
        "  i = j\n",
        "  j = k\n",
        "  step = step + 1\n",
        "  if np.abs(f(i)) < tol :\n",
        "    print(\"The Root is\", i)\n",
        "    break\n",
        "  if step >= max_steps:\n",
        "        print(\"Step limit reached. Stopping without finding a precise root.\")\n",
        "        break\n",
        "\n",
        "stop = timeit.default_timer()\n",
        "print('Time: ', stop - start, 'Step', step)\n",
        "comparison_list.append([\"The Secant\", stop - start, step ])"
      ]
    },
    {
      "cell_type": "markdown",
      "metadata": {
        "id": "vaSa7nY8dQ-J"
      },
      "source": [
        "## The Modified Secant Method"
      ]
    },
    {
      "cell_type": "markdown",
      "metadata": {
        "id": "_RBqWLxAdQ-J"
      },
      "source": [
        "Implement the modified secant method and compare it to the other methods."
      ]
    },
    {
      "cell_type": "code",
      "execution_count": 74,
      "metadata": {
        "colab": {
          "base_uri": "https://localhost:8080/"
        },
        "id": "8xR2pGNPdQ-J",
        "outputId": "1242d31c-965b-4acd-bd45-a08bea9710d1"
      },
      "outputs": [
        {
          "output_type": "stream",
          "name": "stdout",
          "text": [
            "The Root is 0.693146510100599\n",
            "Time:  0.005062049000116531 Step 3\n"
          ]
        }
      ],
      "source": [
        "start = timeit.default_timer()\n",
        "\n",
        "delta = tol\n",
        "step = 0\n",
        "i = 1 #i-1\n",
        "# j : i+1\n",
        "\n",
        "def f(x):\n",
        "  return (1/2) - np.exp(-x)\n",
        "\n",
        "for step in range(max_steps) :\n",
        "  df = f(j)-f(i) / (j-i)\n",
        "  j = i - (delta*f(i))/(f(i+delta)-f(i))\n",
        "  if f(i)*diff(f,i) > 0:\n",
        "    d = -1 * diff(f,i)\n",
        "  else:\n",
        "    d = diff(f,i)\n",
        "  i = j\n",
        "  j = k\n",
        "  step = step + 1\n",
        "  if np.abs(f(i)) < tol :\n",
        "    print(\"The Root is\", i)\n",
        "    break\n",
        "  if step >= max_steps:\n",
        "        print(\"Step limit reached. Stopping without finding a precise root.\")\n",
        "        break\n",
        "\n",
        "stop = timeit.default_timer()\n",
        "print('Time: ', stop - start, 'Step', step)\n",
        "comparison_list.append([\"The Modified Secant\", stop - start, step ])"
      ]
    },
    {
      "cell_type": "markdown",
      "source": [
        "# Comparison Between the Methods"
      ],
      "metadata": {
        "id": "2D-FC20047jp"
      }
    },
    {
      "cell_type": "code",
      "source": [
        "#Plotting Comparison\n",
        "\n",
        "methods = [d[0] for d in comparison_list]\n",
        "times = [d[1] * 1000 for d in comparison_list]\n",
        "iterations = [d[2] for d in comparison_list]\n",
        "\n",
        "fig, ax1 = plt.subplots()\n",
        "\n",
        "ax1.barh(methods, times, color='b', alpha=0.6)\n",
        "ax1.set_xlabel('Time (ms)', color='b')\n",
        "ax1.set_ylabel('Methods')\n",
        "\n",
        "ax2 = ax1.twiny()\n",
        "ax2.plot(iterations, methods, color='r', marker='o', linestyle='--')\n",
        "ax2.set_xlabel('Iterations', color='r')\n",
        "\n",
        "plt.title('Method Comparison: Time and Iterations')\n",
        "plt.show()"
      ],
      "metadata": {
        "colab": {
          "base_uri": "https://localhost:8080/",
          "height": 512
        },
        "id": "cMdo1rbqV_4Q",
        "outputId": "09bf33d5-4c84-4f88-db94-6789f1660e4a"
      },
      "execution_count": 75,
      "outputs": [
        {
          "output_type": "display_data",
          "data": {
            "text/plain": [
              "<Figure size 640x480 with 2 Axes>"
            ],
            "image/png": "[encoded data removed]"
          },
          "metadata": {}
        }
      ]
    },
    {
      "cell_type": "markdown",
      "source": [
        "The performance of various root-finding methods in terms of time and iterations is visualized. As illustrated by the plot, the modified secant method generally requires fewer iterations but takes more time, while bisection is slower but more reliable. Newton-Raphson and false-position methods strike a balance between speed and iterations.\n",
        "\n",
        "Note: These bars show the results of tests done with the fixed initial value $$i=1$$, as priorly explained, the Newton-Raphson Method has shortcomings for flawed inital guesses and it is fixed only via the Backtracking Technique."
      ],
      "metadata": {
        "id": "fiPjGkXA5C8t"
      }
    }
  ],
  "metadata": {
    "kernelspec": {
      "display_name": "Python 3",
      "language": "python",
      "name": "python3"
    },
    "language_info": {
      "codemirror_mode": {
        "name": "ipython",
        "version": 3
      },
      "file_extension": ".py",
      "mimetype": "text/x-python",
      "name": "python",
      "nbconvert_exporter": "python",
      "pygments_lexer": "ipython3",
      "version": "3.8.10"
    },
    "colab": {
      "provenance": [],
      "include_colab_link": true
    }
  },
  "nbformat": 4,
  "nbformat_minor": 0
}