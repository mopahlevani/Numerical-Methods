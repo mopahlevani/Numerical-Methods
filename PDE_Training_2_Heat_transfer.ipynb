{
  "cells": [
    {
      "cell_type": "markdown",
      "metadata": {
        "id": "view-in-github",
        "colab_type": "text"
      },
      "source": [
        "<a href=\"https://colab.research.google.com/github/mopahlevani/Numerical-Simulation/blob/main/PDE_Training_2_Heat_transfer.ipynb\" target=\"_parent\"><img src=\"https://colab.research.google.com/assets/colab-badge.svg\" alt=\"Open In Colab\"/></a>"
      ]
    },
    {
      "cell_type": "markdown",
      "metadata": {
        "id": "VHtP3Ysb_WbI"
      },
      "source": [
        "# Solving Conductive Heat Transfer: Case of a window, with and without an insulating aire layer"
      ]
    },
    {
      "cell_type": "markdown",
      "source": [
        "Student Name: Mohammad Hadi Pahlevani"
      ],
      "metadata": {
        "id": "RI0g2WYb_6M-"
      }
    },
    {
      "cell_type": "code",
      "source": [
        "import numpy as np\n",
        "import matplotlib.pyplot as plt\n",
        "import scipy.linalg as la"
      ],
      "metadata": {
        "id": "blteACzwXd5d"
      },
      "execution_count": 74,
      "outputs": []
    },
    {
      "cell_type": "markdown",
      "metadata": {
        "id": "eLavUoJ1_WbK"
      },
      "source": [
        "In this training we wish to solve the 1D  conductive heat transfer problem. We will consider heat transfer in a 1D slab of material It could be a glass window for example.. The medium has a width L and a thermal conductivity K and a specific heat Cp and density $\\rho$.\n",
        "\n"
      ]
    },
    {
      "cell_type": "markdown",
      "metadata": {
        "id": "_YVlkhie_WbK"
      },
      "source": [
        "The 1D heat diffusion equations reads :\n",
        "$$ \\frac{\\partial T}{\\partial t} - \\frac{K}{\\rho Cp} \\frac{\\partial^2 T}{\\partial x^2} = \\frac{SK}{\\rho Cp} $$\n"
      ]
    },
    {
      "cell_type": "markdown",
      "metadata": {
        "id": "RkGGGhIT_WbK"
      },
      "source": [
        "where S is an energy source term (in $w/m^2$) that is non-zero if we inject energy in the system. For the moment we will assume that S=0"
      ]
    },
    {
      "cell_type": "markdown",
      "metadata": {
        "id": "7fvRLJmQ_WbL"
      },
      "source": [
        "For glass, $K\\simeq 1 w/m/K$, Cp=753 J/Kg/K, $\\rho=2500 Kg/m^3$"
      ]
    },
    {
      "cell_type": "markdown",
      "metadata": {
        "id": "-98v2391_WbL"
      },
      "source": [
        "## Diffusion timescale and the Courant condition (CFL)"
      ]
    },
    {
      "cell_type": "markdown",
      "metadata": {
        "id": "sXRFkC1A_WbL"
      },
      "source": [
        "We assume initially that the glass width is L =1 cm, and that the temperature everywhere is 300K initially. The right (x=0) and left (x=L) temperatures of the glass is $T_L$ and $T_R$. We will change the glass left and right temperatures and see how the temperature profile (T(x) for x ranging from 0 to L) evolves."
      ]
    },
    {
      "cell_type": "markdown",
      "metadata": {
        "id": "EIXuTnr2_WbL"
      },
      "source": [
        "By doing a simple dimensional analysis, find a characteristic timescale $T_d$ using L (the width of the window),  $T_d$ as a functio of L, K, $\\rho$ $Cp$. $T_d$ is the diffusion timescale. We can also recognize that $D=K/\\rho C_p$ is a diffusion coefficient, so the classical theory for diffusion processes applies here..."
      ]
    },
    {
      "cell_type": "markdown",
      "metadata": {
        "id": "4MRnsssZ_WbM"
      },
      "source": [
        "$T_d=\\frac{L^2}{D}$"
      ]
    },
    {
      "cell_type": "code",
      "execution_count": 14,
      "metadata": {
        "colab": {
          "base_uri": "https://localhost:8080/"
        },
        "id": "yznCvN1h_WbM",
        "outputId": "2e713219-7c17-4d59-d5df-942d5910a065"
      },
      "outputs": [
        {
          "output_type": "stream",
          "name": "stdout",
          "text": [
            "Td = 5.312084993359894e-07\n"
          ]
        }
      ],
      "source": [
        "K = 1 #w/m/k\n",
        "Cp = 753 # J/Kg/K\n",
        "Ro = 2500 #Kg/m^3\n",
        "D = K / (Ro* Cp) #diffusion coefficient\n",
        "L = 1 # cm\n",
        "T0 = 300 # k\n",
        "T_L = 300\n",
        "T_R = 0\n",
        "Td = D / L * L\n",
        "print('Td = ' + str(Td))"
      ]
    },
    {
      "cell_type": "markdown",
      "metadata": {
        "id": "O84rZGOw_WbN"
      },
      "source": [
        "## Discretization of the problem"
      ]
    },
    {
      "cell_type": "markdown",
      "metadata": {
        "id": "Npa8UYp8_WbN"
      },
      "source": [
        "Now we want to solve the diffusion equation using a finite difference method.\n",
        "We need first to write the integration scheme.\n",
        "we call $x_i=i*dx$, $t_j=j*dt$ with i,j, integers, and dt and dx standing for the timestep and space step respectively. Let's call $T_i^j$ the numerical approximation to $T(x_i,t_j)$\n",
        "\n",
        "We start soing first order in time and second order in space.\n",
        "For the time derive use a forward 1st order derivative. Give the 1st order forward approximation."
      ]
    },
    {
      "cell_type": "markdown",
      "metadata": {
        "id": "mJQuU4i3_WbN"
      },
      "source": [
        "$\\frac{\\partial T}{\\partial t}= \\frac{T^{j+1}_i-T^j_i}{dt}  +o(dt)$"
      ]
    },
    {
      "cell_type": "markdown",
      "metadata": {
        "id": "IaSd14tn_WbN"
      },
      "source": [
        "For the temperature space derivative we need the second order derivative. As diffusion ois a process acting in both directions simultaneously we can use a centered scheme. Provide a 1st order cetered approximation to the second order derivative : You can have a look here : https://en.wikipedia.org/wiki/Finite_difference"
      ]
    },
    {
      "cell_type": "markdown",
      "metadata": {
        "id": "dzjFtmYn_WbN"
      },
      "source": [
        "$\\frac{\\partial^2 T}{\\partial x^2}=\\frac{T^{j}_{i+1}-T^j_{i-1}}{2dx}  +o(dx^2)$"
      ]
    },
    {
      "cell_type": "markdown",
      "metadata": {
        "id": "t2L0n47-_WbN"
      },
      "source": [
        "From the above two expressions, build an integration scheme for the Heat diffusion equation :"
      ]
    },
    {
      "cell_type": "markdown",
      "metadata": {
        "id": "zsLn01Rr_WbO"
      },
      "source": [
        "$T^{j+1}_i=T^{j}_i (1-2 σ) + σ(T^{j}_{i-1} + T^{j}_{i+1}) \\\\ σ = \\frac{Ddt}{dx^2}$"
      ]
    },
    {
      "cell_type": "markdown",
      "metadata": {
        "id": "y39gN_hW_WbO"
      },
      "source": [
        "We will discretise space by using N=50 cells. What is the time necessary, $T_{cell}$ for heat to diffuse over a cell ??  \n",
        ""
      ]
    },
    {
      "cell_type": "markdown",
      "metadata": {
        "id": "V0_qhLjx_WbO"
      },
      "source": [
        "$T_{cell}= \\frac {dx^2}{D} = \\frac {\\frac{L^2}{N^2}}{D} = \\frac{L^2}{50^2D}= \\frac{T_d}{50^2}$"
      ]
    },
    {
      "cell_type": "markdown",
      "metadata": {
        "id": "AkEcgBBf_WbO"
      },
      "source": [
        "## Numerically solving heat transfer accross the window"
      ]
    },
    {
      "cell_type": "markdown",
      "metadata": {
        "id": "qDbnGwQP_WbO"
      },
      "source": [
        "We will make sure, in the following to choose dt < $T_{cell}$. This will be our \"CFL\" condition in the diffusion case.\n",
        "\n",
        "\n",
        "As boundary conditions, we will put $T_1^0=T_L$ and $T_N^0=T_R$, with $T_R=300K$ (warm interior) and $T_L=273K$ (freezing cold outside!).\n",
        "\n",
        "The initial state is $T^0_{2..N-1}=300K$\n",
        "\n",
        "integrate the evolution of the temperature from t=0 to $t_{end} = 10 T_d$\n",
        "\n",
        "\n",
        "Write the code that compute the Evolution of the temperature profile. You have to\n",
        "\n",
        "*1) Define the X axis, dt, dx, the different constant, TR, TL\n",
        "\n",
        "*2) Initialise T\n",
        "\n",
        "*3) Do a loop over time.\n",
        "\n",
        "*4)      Compute dT/dt for each space bin i\n",
        "\n",
        "*5)      Update T for each space bin i\n",
        "\n",
        "*6)     Update time\n",
        "\n",
        "*7)     end of loop\n",
        "\n",
        "\n",
        "\n",
        "\n",
        "\n",
        "\n"
      ]
    },
    {
      "cell_type": "markdown",
      "metadata": {
        "id": "x7CtPsfr_WbO"
      },
      "source": [
        "DO : Provide 5 or 6 plots from 0 to $t_{end}$ display how heat is transfered"
      ]
    },
    {
      "cell_type": "code",
      "source": [
        "T_L = 273\n",
        "T_R = 300\n",
        "N = 4\n",
        "h = 0\n",
        "dx = L / (N - 1)\n",
        "dt = Td\n",
        "sigma = D * dt / dx**2\n",
        "Tcell = Td / (N**2)\n",
        "\n",
        "x = np.linspace(0,L,N)\n",
        "dx = x[1]-x[0]\n",
        "T0 = np.ones(N) * 300\n",
        "\n",
        "T0[0]=T_L\n",
        "T0[N-1]=T_R\n",
        "T=T0\n",
        "\n",
        "\n",
        "A = np.zeros((N, N))\n",
        "for i in range(1, N-1):\n",
        "    A[i, i] = 1 + 2 * sigma\n",
        "    A[i, i-1] = -sigma\n",
        "    A[i, i+1] = -sigma\n",
        "A[0, 0] = 1\n",
        "A[N-1, N-1] = 1\n",
        "\n",
        "Ainv = np.linalg.inv(A)\n",
        "print(Ainv)\n",
        "\n",
        "for h in range(10):\n",
        "    T1 = np.matmul(Ainv, T)\n",
        "    T[0] = T_L\n",
        "    T[N-1] = T_R\n",
        "\n",
        "\n",
        "plt.show()"
      ],
      "metadata": {
        "colab": {
          "base_uri": "https://localhost:8080/"
        },
        "id": "W4r7r1tpWJHD",
        "outputId": "e3a8c7c9-d5b1-4f26-f283-a5e900d8d93b"
      },
      "execution_count": 85,
      "outputs": [
        {
          "output_type": "stream",
          "name": "stdout",
          "text": [
            "[[1.00000000e+00 0.00000000e+00 0.00000000e+00 0.00000000e+00]\n",
            " [2.53964210e-08 9.99999949e-01 2.53964197e-08 6.44978199e-16]\n",
            " [6.44978199e-16 2.53964197e-08 9.99999949e-01 2.53964210e-08]\n",
            " [0.00000000e+00 0.00000000e+00 0.00000000e+00 1.00000000e+00]]\n"
          ]
        }
      ]
    },
    {
      "cell_type": "markdown",
      "metadata": {
        "id": "ZBHDRS4o_WbP"
      },
      "source": [
        "DO : show that at equilibrium the thermal gradient is constant."
      ]
    },
    {
      "cell_type": "markdown",
      "metadata": {
        "id": "bBI7dsqQ_WbP"
      },
      "source": [
        "## Heat flux toward the exterior : energy loss"
      ]
    },
    {
      "cell_type": "markdown",
      "metadata": {
        "id": "6CA1sdwN_WbP"
      },
      "source": [
        "At equilibrium what is the heat flux ? F=-K$\\frac{\\partial T}{\\partial x}$, with K standing for the diffusion coefficient"
      ]
    },
    {
      "cell_type": "markdown",
      "metadata": {
        "id": "x9yt-wMu_WbP"
      },
      "source": [
        "F=??"
      ]
    },
    {
      "cell_type": "markdown",
      "metadata": {
        "id": "S8JR9Iz-_WbP"
      },
      "source": [
        "## Inserting an insulating air-layer"
      ]
    },
    {
      "cell_type": "markdown",
      "metadata": {
        "id": "Sr9sjDK-_WbP"
      },
      "source": [
        "Now we put an insulating layer with air. So our window is like a \"sandwich\", with 0.3 mm of glass, 0.4 mm of air, 0.3 mm of glass.  Air characteristics are at 273K :\n",
        "K=0.025 W/m/K , Cp=1005 J/K/Kg, and $\\rho= 1.30 Kg/m^3$."
      ]
    },
    {
      "cell_type": "markdown",
      "metadata": {
        "id": "XVmcX1DW_WbP"
      },
      "source": [
        "Redo the same exercice as above :"
      ]
    },
    {
      "cell_type": "markdown",
      "metadata": {
        "id": "TfGTf2VV_WbP"
      },
      "source": [
        "Write the new code (BEWARE : now K, RHO, Cp are not the same evrywhere!!!!)"
      ]
    },
    {
      "cell_type": "markdown",
      "metadata": {
        "id": "XKwvBm7W_WbQ"
      },
      "source": [
        "What is the effect of the insulating layer ? Show with plots"
      ]
    },
    {
      "cell_type": "markdown",
      "metadata": {
        "id": "Ex7U41TL_WbQ"
      },
      "source": [
        "What is the Thermal profile in the thickness of the window ?\n"
      ]
    },
    {
      "cell_type": "markdown",
      "metadata": {
        "id": "WGXPZady_WbQ"
      },
      "source": [
        "What is the final heat flux ?\n",
        "\n",
        "Conclusion ? What is the interest of the insulating layer ?\n"
      ]
    },
    {
      "cell_type": "markdown",
      "metadata": {
        "id": "WUrllj8H_WbQ"
      },
      "source": []
    },
    {
      "cell_type": "markdown",
      "metadata": {
        "id": "6y91cSL7_WbQ"
      },
      "source": []
    }
  ],
  "metadata": {
    "kernelspec": {
      "display_name": "Python 3",
      "language": "python",
      "name": "python3"
    },
    "language_info": {
      "codemirror_mode": {
        "name": "ipython",
        "version": 3
      },
      "file_extension": ".py",
      "mimetype": "text/x-python",
      "name": "python",
      "nbconvert_exporter": "python",
      "pygments_lexer": "ipython3",
      "version": "3.8.5"
    },
    "colab": {
      "provenance": [],
      "include_colab_link": true
    }
  },
  "nbformat": 4,
  "nbformat_minor": 0
}