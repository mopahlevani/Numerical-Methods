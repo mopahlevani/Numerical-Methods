{
  "cells": [
    {
      "cell_type": "markdown",
      "metadata": {
        "id": "view-in-github",
        "colab_type": "text"
      },
      "source": [
        "<a href=\"https://colab.research.google.com/github/mopahlevani/Numerical-Methods/blob/main/0.%20Sample%20Final%20Exam.ipynb\" target=\"_parent\"><img src=\"https://colab.research.google.com/assets/colab-badge.svg\" alt=\"Open In Colab\"/></a>"
      ]
    },
    {
      "cell_type": "code",
      "execution_count": 2,
      "metadata": {
        "id": "4rcFubqnfjFi"
      },
      "outputs": [],
      "source": [
        "import numpy as np\n",
        "import matplotlib.pyplot as plt"
      ]
    },
    {
      "cell_type": "markdown",
      "metadata": {
        "id": "drOj33EcfjFn"
      },
      "source": [
        "# REPLACE THIS TEXT YOUR NAME"
      ]
    },
    {
      "cell_type": "markdown",
      "metadata": {
        "id": "PhC8cJsQfjFp"
      },
      "source": [
        "Change the name of this notebook to  `yourname.ipynb` with *no spaces, no accents and no strange characters!*"
      ]
    },
    {
      "cell_type": "markdown",
      "metadata": {
        "id": "kuiT5uTffjFp"
      },
      "source": [
        "## Questions"
      ]
    },
    {
      "cell_type": "markdown",
      "metadata": {
        "id": "oz4XyJQmfjFq"
      },
      "source": [
        "1. **Calculate numerically the integral of the function $f(x)=\\sqrt{x}$ over the interval $x=[1,3]$.**\n",
        "\n",
        "    *First provide a short description of the method you are going to use and then code it. Give the numerical value of the integral with an accuracy of 1%.*\n",
        "    "
      ]
    },
    {
      "cell_type": "markdown",
      "source": [
        "Simpson's Rule is a numerical integration technique that approximates the integral of a function by dividing the interval\n",
        "$[a,b]$ into an even number of subintervals, n, and fitting parabolic curves to the segments. This method is more accurate than the trapezoidal rule because it uses quadratic polynomials instead of linear ones."
      ],
      "metadata": {
        "id": "djXvw-jnMQHZ"
      }
    },
    {
      "cell_type": "code",
      "execution_count": 8,
      "metadata": {
        "colab": {
          "base_uri": "https://localhost:8080/"
        },
        "id": "kq18eNAjfjFq",
        "outputId": "7768979c-8bd2-4fbd-84ce-e8ec7c8a8ce9"
      },
      "outputs": [
        {
          "output_type": "stream",
          "name": "stdout",
          "text": [
            "2.797434948471128\n"
          ]
        }
      ],
      "source": [
        "def f(x):\n",
        "  return x ** (1/2)\n",
        "\n",
        "def simpson(f, a, b, n):\n",
        "    if n % 2 != 0:\n",
        "        raise ValueError(\"n must be even for Simpson's rule.\")\n",
        "\n",
        "    h = (b - a) / n\n",
        "    result = f(a) + f(b)\n",
        "    for i in range(1, n, 2):\n",
        "        result += 4 * f(a + i * h)\n",
        "    for i in range(2, n - 1, 2):\n",
        "        result += 2 * f(a + i * h)\n",
        "    return result * h / 3\n",
        "\n",
        "n = 100000\n",
        "a, b = 1, 3\n",
        "print(simpson(f, a, b, n))"
      ]
    },
    {
      "cell_type": "markdown",
      "metadata": {
        "id": "TBUOLo8nfjFq"
      },
      "source": [
        "2. **Give a brief definition of \"machine precision\".**"
      ]
    },
    {
      "cell_type": "markdown",
      "metadata": {
        "id": "xY3ApJQNfjFr"
      },
      "source": [
        "Machine precision refers to the smallest difference between two numbers that a computer can distinguish due to its finite representation of numbers. This is determined by the format used for floating-point numbers, such as IEEE 754, which imposes limits on the range and precision of numbers that can be represented.\n"
      ]
    },
    {
      "cell_type": "markdown",
      "metadata": {
        "id": "qXsLEpv_fjFr"
      },
      "source": [
        "3. **Give a brief description what is meant by interpolation.**"
      ]
    },
    {
      "cell_type": "markdown",
      "metadata": {
        "id": "OuiWq0jUfjFr"
      },
      "source": [
        "Interpolation is the process of estimating the value of a function at a point within the range of known data points. It uses mathematical techniques to infer the missing value based on neighboring data, assuming a specific relationship between the points (e.g., linear or polynomial)."
      ]
    },
    {
      "cell_type": "markdown",
      "metadata": {
        "id": "nNnZpXXtfjFs"
      },
      "source": [
        "4. **The `python` function given below performs a linear regression on a set of data.**\n",
        "\n",
        "    *a. Perform a fit on the data of your choice (make it up).*\n",
        "    \n",
        "    *b. Trace your data, the fit (on the same plot) and label the axes.*"
      ]
    },
    {
      "cell_type": "code",
      "execution_count": 15,
      "metadata": {
        "id": "LVg6i-OOfjFs"
      },
      "outputs": [],
      "source": [
        "def lin_reg(x_data, y_data):\n",
        "    \"\"\" Fit a set of data using y = a0 + a1 * x\n",
        "\n",
        "        input\n",
        "        x_data: x-values of your data\n",
        "        y_data: y-values of your data\n",
        "\n",
        "        output:\n",
        "        a0, a1\n",
        "    \"\"\"\n",
        "\n",
        "    n = np.size(x_data)\n",
        "\n",
        "    xm = np.mean(x_data)\n",
        "    ym = np.mean(y_data)\n",
        "    S1 = np.sum(x_data*y_data) - n*xm*ym\n",
        "    S2 = np.sum(x_data**2) - n*xm**2\n",
        "\n",
        "    a1 = S1/S2\n",
        "    a0 = ym - a1*xm\n",
        "\n",
        "    return (a0,a1)"
      ]
    },
    {
      "cell_type": "code",
      "execution_count": 19,
      "metadata": {
        "colab": {
          "base_uri": "https://localhost:8080/",
          "height": 430
        },
        "id": "SFNL_GYWfjFs",
        "outputId": "4ab1bff2-2251-4423-d44d-438fad8f4e9a"
      },
      "outputs": [
        {
          "output_type": "display_data",
          "data": {
            "text/plain": [
              "<Figure size 640x480 with 1 Axes>"
            ],
            "image/png": "[encoded data removed]"
          },
          "metadata": {}
        }
      ],
      "source": [
        "x_data = np.array([0,1,2,3,4,5,6,7,8,9])\n",
        "y_data = np.array([-2,3,3,4,7,8,12,13,16,18])\n",
        "\n",
        "a0, a1 = lin_reg(x_data, y_data)\n",
        "plt.plot(x_data, y_data, 'o')\n",
        "plt.plot(x_data, a0 + a1*np.array(x_data), 'r')\n",
        "plt.show()"
      ]
    },
    {
      "cell_type": "markdown",
      "metadata": {
        "id": "a50N4JjKfjFs"
      },
      "source": [
        "5. **Let's consider a differential equation  in the form:\n",
        "$\\frac{dx}{dt}+\\frac{d^2x}{dt^2}=-3x+kt$\n",
        "where k is a constant.\n",
        "Is it an ordinary or a partial differential equation ? Explain why**"
      ]
    },
    {
      "cell_type": "markdown",
      "metadata": {
        "id": "HHed7betfjFt"
      },
      "source": [
        "The given equation is an ordinary differential equation (ODE) because it involves derivatives of a single dependent variable,\n",
        "x(t), with respect to a single independent variable,\n",
        "t. An ordinary differential equation involves only ordinary derivatives (as opposed to partial derivatives) because there is no dependence on multiple independent variables.\n",
        "\n",
        "If there were another independent variable (e.g.,\n",
        "y depending on both\n",
        "t and another variable\n",
        "s), the equation would involve partial derivatives, making it a partial differential equation (PDE)."
      ]
    },
    {
      "cell_type": "markdown",
      "metadata": {
        "id": "fejWpoQ7fjFu"
      },
      "source": [
        "6. **Let's consider a differential equation  in the form:\n",
        "$\\frac{df}{dt}-c\\frac{df}{dx^2}=0$\n",
        "Is it an ordinary or a partial differential equation ? Explain why**"
      ]
    },
    {
      "cell_type": "markdown",
      "metadata": {
        "id": "ZSxAnmLafjFu"
      },
      "source": [
        "The given equation is a partial differential equation (PDE) because the function f depends on two independent variables, t and x. As a result, the equation involves both partial derivatives with respect to t and x.\n",
        "\n",
        "An equation is classified as a PDE when it includes partial derivatives with respect to multiple independent variables. If f depended only on t or x, the equation would be an ordinary differential equation (ODE)."
      ]
    },
    {
      "cell_type": "markdown",
      "metadata": {
        "id": "oPgDqLtgfjFy"
      },
      "source": [
        "7. **Consider a differential equation in the form: $\\frac{dU}{dt}=-3U^2 $.\n",
        "We want to solve it numerically starting from $U(t=0)=U_0$.\n",
        "We will use a constant time step $dT$.**\n",
        "\n",
        "    **Give the details and discuss a simple  algorithm, of order 1, to find the value of $U(t)$ at all times $T=n \\times dT$, where n is a postivie integer number.**"
      ]
    },
    {
      "cell_type": "markdown",
      "metadata": {
        "id": "hA_kwjd8fjFy"
      },
      "source": [
        "ANSWER :"
      ]
    },
    {
      "cell_type": "markdown",
      "metadata": {
        "id": "-NULTB1RfjFy"
      },
      "source": [
        "8. **Code this algorithm starting from $U_0=1.0$ and use $dT=0.01$, and display the result over the interval $T=[0,10]$. Label the axes.**\n"
      ]
    },
    {
      "cell_type": "code",
      "execution_count": 49,
      "metadata": {
        "colab": {
          "base_uri": "https://localhost:8080/",
          "height": 449
        },
        "id": "w9H-f2vlfjF0",
        "outputId": "da2d643a-bea8-4937-f6a3-87d431d815b3"
      },
      "outputs": [
        {
          "output_type": "display_data",
          "data": {
            "text/plain": [
              "<Figure size 640x480 with 1 Axes>"
            ],
            "image/png": "[encoded data removed]"
          },
          "metadata": {}
        }
      ],
      "source": [
        "def deriv(u,t):\n",
        "    return -3 * u**2\n",
        "\n",
        "T=[]\n",
        "U=[]\n",
        "t = 0\n",
        "u = 1.0\n",
        "dt = 0.01\n",
        "while t < 10:\n",
        "    f = deriv(u,t)\n",
        "    u = u + f * dt\n",
        "    U.append(u)\n",
        "    T.append(t)\n",
        "    t = t + dt\n",
        "plt.plot(T, U, label=f'dt={dt}')\n",
        "plt.xlabel('t')\n",
        "plt.ylabel('U')\n",
        "plt.legend()\n",
        "plt.show()"
      ]
    },
    {
      "cell_type": "markdown",
      "metadata": {
        "id": "f4ABlOwgfjF0"
      },
      "source": [
        "9. **Now do redo the same calculation as above, but with $dT=0.5$. What do you see?**\n",
        "\n",
        "    **Propose possible solutions to cure this problem (no need to write code for the moment).**"
      ]
    },
    {
      "cell_type": "code",
      "source": [
        "def deriv(u,t):\n",
        "  f = -3 * u**2\n",
        "  return f\n",
        "\n",
        "T=[]\n",
        "U=[]\n",
        "t = 0\n",
        "u = 1.0\n",
        "dt = 0.5\n",
        "while t < 10:\n",
        "    f = deriv(u,t)\n",
        "    u = u + f * dt\n",
        "    U.append(u)\n",
        "    T.append(t)\n",
        "    t = t + dt\n",
        "plt.plot(T, U, label=f'dt={dt}')\n",
        "plt.xlabel('t')\n",
        "plt.ylabel('U')\n",
        "plt.legend()\n",
        "plt.show()"
      ],
      "metadata": {
        "colab": {
          "base_uri": "https://localhost:8080/",
          "height": 341
        },
        "id": "Sn87bmEsWVez",
        "outputId": "68ebe80c-aed9-43c0-c76e-764fc94237cc"
      },
      "execution_count": 48,
      "outputs": [
        {
          "output_type": "error",
          "ename": "OverflowError",
          "evalue": "(34, 'Numerical result out of range')",
          "traceback": [
            "\u001b[0;31m---------------------------------------------------------------------------\u001b[0m",
            "\u001b[0;31mOverflowError\u001b[0m                             Traceback (most recent call last)",
            "\u001b[0;32m<ipython-input-48-2d377476b0fa>\u001b[0m in \u001b[0;36m<cell line: 10>\u001b[0;34m()\u001b[0m\n\u001b[1;32m      9\u001b[0m \u001b[0mdt\u001b[0m \u001b[0;34m=\u001b[0m \u001b[0;36m0.5\u001b[0m\u001b[0;34m\u001b[0m\u001b[0;34m\u001b[0m\u001b[0m\n\u001b[1;32m     10\u001b[0m \u001b[0;32mwhile\u001b[0m \u001b[0mt\u001b[0m \u001b[0;34m<\u001b[0m \u001b[0;36m10\u001b[0m\u001b[0;34m:\u001b[0m\u001b[0;34m\u001b[0m\u001b[0;34m\u001b[0m\u001b[0m\n\u001b[0;32m---> 11\u001b[0;31m     \u001b[0mf\u001b[0m \u001b[0;34m=\u001b[0m \u001b[0mderiv\u001b[0m\u001b[0;34m(\u001b[0m\u001b[0mu\u001b[0m\u001b[0;34m,\u001b[0m\u001b[0mt\u001b[0m\u001b[0;34m)\u001b[0m\u001b[0;34m\u001b[0m\u001b[0;34m\u001b[0m\u001b[0m\n\u001b[0m\u001b[1;32m     12\u001b[0m     \u001b[0mu\u001b[0m \u001b[0;34m=\u001b[0m \u001b[0mu\u001b[0m \u001b[0;34m+\u001b[0m \u001b[0mf\u001b[0m \u001b[0;34m*\u001b[0m \u001b[0mdt\u001b[0m\u001b[0;34m\u001b[0m\u001b[0;34m\u001b[0m\u001b[0m\n\u001b[1;32m     13\u001b[0m     \u001b[0mU\u001b[0m\u001b[0;34m.\u001b[0m\u001b[0mappend\u001b[0m\u001b[0;34m(\u001b[0m\u001b[0mu\u001b[0m\u001b[0;34m)\u001b[0m\u001b[0;34m\u001b[0m\u001b[0;34m\u001b[0m\u001b[0m\n",
            "\u001b[0;32m<ipython-input-48-2d377476b0fa>\u001b[0m in \u001b[0;36mderiv\u001b[0;34m(u, t)\u001b[0m\n\u001b[1;32m      1\u001b[0m \u001b[0;32mdef\u001b[0m \u001b[0mderiv\u001b[0m\u001b[0;34m(\u001b[0m\u001b[0mu\u001b[0m\u001b[0;34m,\u001b[0m\u001b[0mt\u001b[0m\u001b[0;34m)\u001b[0m\u001b[0;34m:\u001b[0m\u001b[0;34m\u001b[0m\u001b[0;34m\u001b[0m\u001b[0m\n\u001b[0;32m----> 2\u001b[0;31m   \u001b[0mf\u001b[0m \u001b[0;34m=\u001b[0m \u001b[0;34m-\u001b[0m\u001b[0;36m3\u001b[0m \u001b[0;34m*\u001b[0m \u001b[0mu\u001b[0m\u001b[0;34m**\u001b[0m\u001b[0;36m2\u001b[0m\u001b[0;34m\u001b[0m\u001b[0;34m\u001b[0m\u001b[0m\n\u001b[0m\u001b[1;32m      3\u001b[0m   \u001b[0;32mreturn\u001b[0m \u001b[0mf\u001b[0m\u001b[0;34m\u001b[0m\u001b[0;34m\u001b[0m\u001b[0m\n\u001b[1;32m      4\u001b[0m \u001b[0;34m\u001b[0m\u001b[0m\n\u001b[1;32m      5\u001b[0m \u001b[0mT\u001b[0m\u001b[0;34m=\u001b[0m\u001b[0;34m[\u001b[0m\u001b[0;34m]\u001b[0m\u001b[0;34m\u001b[0m\u001b[0;34m\u001b[0m\u001b[0m\n",
            "\u001b[0;31mOverflowError\u001b[0m: (34, 'Numerical result out of range')"
          ]
        }
      ]
    },
    {
      "cell_type": "markdown",
      "metadata": {
        "id": "PhtsWyB7fjF0"
      },
      "source": [
        "When dt=0.5, the Euler method becomes unstable for the equation\n",
        "du=-3u^2, causing rapid exponential growth in u due to large step sizes inaccurately approximating the solution. This instability leads to an OverflowError as u quickly exceeds the representable range of floating-point numbers. The problem arises because Euler's method assumes linear behavior over each time step, which fails for equations with quadratic growth like this one. To fix this, the step size dt should be reduced (e.g.,\n",
        "dt=0.01) to improve stability. Alternatively, more stable numerical methods, such as Runge-Kutta (RK4) or backward Euler, can be used to handle larger time steps effectively. Adaptive step sizing is another approach to dynamically control\n",
        "dt based on the rate of change in u, ensuring accuracy without unnecessary computational overhead."
      ]
    },
    {
      "cell_type": "markdown",
      "metadata": {
        "id": "uIb9CPVDfjF1"
      },
      "source": [
        "10. **We propose to cure this problem with a second order solver in the form:**\n",
        "$$ k1=U(t)+dt/2*F(U,t) $$  **and**\n",
        "$$U(t+dt)=U(t)+dt \\times F(k1,t+dt/2)$$\n",
        "\n",
        "**What solver is this? What is its order (no need to justify)? How is it called?**\n",
        "    "
      ]
    },
    {
      "cell_type": "markdown",
      "metadata": {
        "id": "32QAGM-JfjGC"
      },
      "source": [
        "It's Runge-Kutta Order 2 or Midpoint solver."
      ]
    },
    {
      "cell_type": "markdown",
      "metadata": {
        "id": "hVrrz78MfjGC"
      },
      "source": [
        "11. **Code this solver and find the $U(t)$ numerically using $dT=0.01$ and then $dT=0.5$. What do you see? What do you conclude?**"
      ]
    },
    {
      "cell_type": "code",
      "execution_count": 63,
      "metadata": {
        "colab": {
          "base_uri": "https://localhost:8080/",
          "height": 449
        },
        "id": "bJg8cXhVfjGC",
        "outputId": "f16d269c-c72b-40d6-dc9f-b4fd66d06614"
      },
      "outputs": [
        {
          "output_type": "display_data",
          "data": {
            "text/plain": [
              "<Figure size 640x480 with 1 Axes>"
            ],
            "image/png": "[encoded data removed]"
          },
          "metadata": {}
        }
      ],
      "source": [
        "def deriv(u,t):\n",
        "  f = -3 * u**2\n",
        "  return f\n",
        "\n",
        "\n",
        "for dt in [0.01,0.5]:\n",
        "  T=[]\n",
        "  U=[]\n",
        "  t = 0\n",
        "  u = 1.0\n",
        "  while t < 10:\n",
        "    k1 = u + dt/2 * deriv(u,t)\n",
        "    u = u + dt * deriv(k1, t+ dt/2)\n",
        "    U.append(u)\n",
        "    T.append(t)\n",
        "    t = t + dt\n",
        "  plt.plot(T,U,label=f'dt={dt}')\n",
        "plt.xlabel('t')\n",
        "plt.ylabel('U')\n",
        "plt.legend()\n",
        "plt.show()"
      ]
    },
    {
      "cell_type": "markdown",
      "metadata": {
        "id": "XCnUIhcifjGC"
      },
      "source": [
        "12. **Explain the difference between and explicit and implicit solver . Detail the Implicit Euler solver for a differential equation of the form :  $\\frac{dU}{dt}=F(U)$ where F is an arbitrary function.**"
      ]
    },
    {
      "cell_type": "markdown",
      "metadata": {
        "id": "W8wG6fZXfjGD"
      },
      "source": [
        "Explicit solvers predict the next value ($u_{new}$) using the slope and function value at the current time (t), making them computationally faster and easier to implement. However, they can become unstable for stiff equations or large time steps. In contrast, implicit solvers calculate the next value by considering the function and slope at t+Δt, requiring additional calculations (often solving nonlinear equations) but offering greater stability for stiff equations or larger time steps. \\\\\n",
        "Explicit: u_new = u + f(u,t) * dt \\\\\n",
        "Implicit: u_new = u + dt * f(u_new,t+dt)"
      ]
    },
    {
      "cell_type": "markdown",
      "metadata": {
        "id": "Qx2Uz8u9fjGD"
      },
      "source": [
        "13. **Consider the same equation of above :\n",
        "$$\\frac{dU}{dt}=-2.\\times U$$.\n",
        "We want to solve it numerically starting from $U(t=0)=U_0$, but using an $\\textit{implicit}$ method.**\n",
        "\n",
        "    **Explain and detail a simple  algorithm, of order 1, to find the value of $U(t)$ at all times $T=n \\times dT$ using the implicit euler solver (do not code it). In other words, explain how you compute $U(n+1)$ as a function of $U(n)$ and $dT$ using implicit Euler.**"
      ]
    },
    {
      "cell_type": "markdown",
      "metadata": {
        "id": "_3_FFa9IfjGE"
      },
      "source": [
        "ANSWER :\n",
        "\n",
        "$U_{n+1} = U_{n} + Δt . (-2 * U_{n+1})$ \\\\\n",
        "\n",
        "$ U_{n+1} = \\frac{U_{n}}{1+2Δt}$\n"
      ]
    },
    {
      "cell_type": "markdown",
      "metadata": {
        "id": "q76H1gykfjGF"
      },
      "source": [
        "14. **We now consider a partial differential equation in the form:**\n",
        "\n",
        "\n",
        "$$\\frac{\\partial U}{\\partial t}+U \\frac{ \\partial U}{\\partial x} =0$$\n",
        "    **where $U$ is a function of space and time $U(x,t)$. When $U$ is a velocity, this equation is called \"Burgers' Equation\". This is a partial differential equations. What information is missing to properly solve this equation? In other words, what do you need to know before you start to try to solve this equation?**\n"
      ]
    },
    {
      "cell_type": "markdown",
      "metadata": {
        "id": "1hqF2inHfjGG"
      },
      "source": [
        "To solve the Burgers' equation $$\\frac{\\partial U}{\\partial t}+U \\frac{ \\partial U}{\\partial x} =0$$, the following information is required:\n",
        "1.   Initial Conditions: U(x,0), which describes the initial state of U over the spatial domain.\n",
        "2.   Boundary Conditions: Values of U at the boundaries of the domain (x min and x max) for all times t. These conditions ensure the problem is well-posed and physically meaningful. Without both initial and boundary conditions, the equation cannot be solved uniquely.\n",
        "\n"
      ]
    },
    {
      "cell_type": "markdown",
      "metadata": {
        "id": "tIbc5naKfjGG"
      },
      "source": [
        "15. **We call $U^k_n=U( t=n\\times dt, x=k\\times dx)$ the value of $U$ at time $t$ and location $x$.\n",
        "What are $dt$ and $dx$?**"
      ]
    },
    {
      "cell_type": "markdown",
      "metadata": {
        "id": "h2SAyX3RfjGH"
      },
      "source": [
        "Δt represents the time step, which is the smallest increment in time used for solving the equation numerically, and Δx represents the spatial step, which is the smallest increment in space. These steps divide the solution domain into a grid where n indexes time and k indexes space. The solving process involves calculating the value of\n",
        "U at each grid point (n,k), effectively creating a mesh of rectangles with Δt and Δx as their respective dimensions. These steps determine the resolution of the numerical solution."
      ]
    },
    {
      "cell_type": "markdown",
      "metadata": {
        "id": "jlyYE2KqfjGH"
      },
      "source": [
        "16. **What relation should exist between  dt,  dx and the velocity U if you use an explicit solver? How is it called ?**"
      ]
    },
    {
      "cell_type": "markdown",
      "metadata": {
        "id": "pJxrSSYjfjGH"
      },
      "source": [
        "It is called the CFL Condition; which states $ c = \\frac{udt}{dx}$ The condition $C =< 1$ ensures the answer stays stable."
      ]
    },
    {
      "cell_type": "markdown",
      "metadata": {
        "id": "rlUSL7vifjGH"
      },
      "source": [
        "17. **Give a 1st order approximation of $\\frac{\\partial U}{\\partial t}$ using the forward difference (as a function of $U^{k}_{n}$ ,$U^{k}_{n+1}$ etc..  )**"
      ]
    },
    {
      "cell_type": "markdown",
      "metadata": {
        "id": "AsC4dWTRfjGI"
      },
      "source": [
        "$  \\frac{\\partial U}{\\partial t} = \\frac{{U^{k}_{n+1} - U^{k}_{n}}}{dt}  $"
      ]
    },
    {
      "cell_type": "markdown",
      "metadata": {
        "id": "89s05MTFfjGI"
      },
      "source": [
        "18. **Give a 1st order approximation of $\\frac{\\partial U}{\\partial x}$ using the backward difference(as a function of $U^{k+1}_{n}$ or $U^{k-1}_{n}$ etc..)**"
      ]
    },
    {
      "cell_type": "markdown",
      "metadata": {
        "id": "cqXUN9rPfjGJ"
      },
      "source": [
        "Forward:  $  \\frac{\\partial U}{\\partial x} = \\frac{{U^{k+1}_{n} - U^{k}_{n}}}{dx}  $\n",
        "\n",
        "Backward:  $  \\frac{\\partial U}{\\partial x} = \\frac{{U^{k}_{n} - U^{k-1}_{n}}}{dx}  $"
      ]
    },
    {
      "cell_type": "markdown",
      "metadata": {
        "id": "fDk-KUsffjGJ"
      },
      "source": [
        "19. **Using your two previous answers propose a discretization of equation : $\\frac{\\partial U}{\\partial t}+U \\frac{ \\partial U}{\\partial x} =0$**"
      ]
    },
    {
      "cell_type": "markdown",
      "metadata": {
        "id": "9a5_mlOVfjGJ"
      },
      "source": [
        "$ \\frac{{U^{k}_{n+1} - U^{k}_{n}}}{dt}  + U * \\frac{{U^{k}_{n} - U^{k-1}_{n}}}{dx} = 0 $ \\\\\n",
        "\n",
        "$ \\frac{{U^{k}_{n+1} = U^{k}_{n}}}{dt}  + C ({{U^{k}_{n} - U^{k-1}_{n}}}) = 0 $"
      ]
    },
    {
      "cell_type": "markdown",
      "metadata": {
        "id": "l6cdwiOefjGK"
      },
      "source": []
    },
    {
      "cell_type": "markdown",
      "metadata": {
        "id": "KEmgLHslfjGK"
      },
      "source": []
    }
  ],
  "metadata": {
    "kernelspec": {
      "display_name": "Python 3",
      "language": "python",
      "name": "python3"
    },
    "language_info": {
      "codemirror_mode": {
        "name": "ipython",
        "version": 3
      },
      "file_extension": ".py",
      "mimetype": "text/x-python",
      "name": "python",
      "nbconvert_exporter": "python",
      "pygments_lexer": "ipython3",
      "version": "3.8.10"
    },
    "colab": {
      "provenance": [],
      "include_colab_link": true
    }
  },
  "nbformat": 4,
  "nbformat_minor": 0
}